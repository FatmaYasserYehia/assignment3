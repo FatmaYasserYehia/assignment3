{
 "cells": [
  {
   "cell_type": "markdown",
   "id": "148bc96a",
   "metadata": {},
   "source": [
    "# Task1\n",
    "Implement Fibonacci series using recursion."
   ]
  },
  {
   "cell_type": "code",
   "execution_count": 3,
   "id": "1b68769b",
   "metadata": {},
   "outputs": [
    {
     "name": "stdin",
     "output_type": "stream",
     "text": [
      "enter the number of terms 6\n"
     ]
    },
    {
     "name": "stdout",
     "output_type": "stream",
     "text": [
      "0 1 1 2 3 5 "
     ]
    }
   ],
   "source": [
    "def fibonacci(a):\n",
    "    if(a<=1):\n",
    "        return a\n",
    "    else:\n",
    "        return(fibonacci(a-1)+fibonacci(a-2))\n",
    "\n",
    "terms=int(input(\"enter the number of terms\"))\n",
    "for i in range(terms):\n",
    "    print(fibonacci(i) , end=\" \")\n",
    " \n"
   ]
  },
  {
   "cell_type": "markdown",
   "id": "7f183270",
   "metadata": {},
   "source": [
    "# Task2\n",
    "Write a Python program to find all the unique words and count the frequency of \n",
    "occurrence from a given list of strings."
   ]
  },
  {
   "cell_type": "code",
   "execution_count": 5,
   "id": "d0dd47f9",
   "metadata": {},
   "outputs": [
    {
     "data": {
      "text/plain": [
       "{'one': 2, 'two': 3, 'four': 1, 'six': 1}"
      ]
     },
     "execution_count": 5,
     "metadata": {},
     "output_type": "execute_result"
    }
   ],
   "source": [
    "def FindUnique(words):\n",
    "    wordSet=set(words)\n",
    "    wordDict={}\n",
    "    for word in words:\n",
    "        wordDict[word]=words.count(word)\n",
    "    return wordDict\n",
    "\n",
    "words=['one','two','one','four','two','two','six']\n",
    "result= FindUnique(words)\n",
    "result\n",
    "\n",
    "    "
   ]
  },
  {
   "cell_type": "markdown",
   "id": "94b572a4",
   "metadata": {},
   "source": [
    "# Task3\n",
    "Write a Python program that finds all pairs of elements in a list whose sum is equal to a \n",
    "given value.\n"
   ]
  },
  {
   "cell_type": "code",
   "execution_count": 15,
   "id": "828ee86b",
   "metadata": {},
   "outputs": [
    {
     "name": "stdout",
     "output_type": "stream",
     "text": [
      "[(0, 3), (1, 2)]\n"
     ]
    }
   ],
   "source": [
    "def FindPairs(A,list):\n",
    "    output=[]\n",
    "    for i in range(len(list)):\n",
    "        for j in range(i+1,len(list)):\n",
    "            if(list[i]+list[j]==A):\n",
    "                output.append((list[i],list[j]))\n",
    "                \n",
    "    return output\n",
    "\n",
    "list = FindPairs(3,[0,1,2,3])\n",
    "print(list)\n",
    "            \n",
    "    "
   ]
  },
  {
   "cell_type": "markdown",
   "id": "a5a74b78",
   "metadata": {},
   "source": [
    "# Task4\n",
    "Write a Python program to find the two numbers whose product is maximum among all \n",
    "the pairs in a given list of numbers\n"
   ]
  },
  {
   "cell_type": "code",
   "execution_count": 23,
   "id": "5e422510",
   "metadata": {},
   "outputs": [
    {
     "data": {
      "text/plain": [
       "[6, 7]"
      ]
     },
     "execution_count": 23,
     "metadata": {},
     "output_type": "execute_result"
    }
   ],
   "source": [
    "def MaxProduct(list):\n",
    "    max=0\n",
    "    result=[]\n",
    "    for i in range(len(list)):\n",
    "        for j in range(i+1,len(list)):\n",
    "            if(list[i]*list[j]>max):\n",
    "                max= list[i]*list[j]\n",
    "                result.clear()\n",
    "                result.append(list[i])\n",
    "                result.append(list[j])\n",
    "                \n",
    "    return result\n",
    "list = MaxProduct([0,1,2,3,4,5,6,7])\n",
    "list\n",
    "                "
   ]
  },
  {
   "cell_type": "markdown",
   "id": "26eb9e76",
   "metadata": {},
   "source": [
    "# Task5\n",
    "Write a Python function that takes a number as a parameter and checks whether the \n",
    "number is prime or not."
   ]
  },
  {
   "cell_type": "code",
   "execution_count": 3,
   "id": "73a8cc9e",
   "metadata": {},
   "outputs": [
    {
     "name": "stdin",
     "output_type": "stream",
     "text": [
      "enter the number 7\n"
     ]
    },
    {
     "name": "stdout",
     "output_type": "stream",
     "text": [
      "7  is a prime number\n"
     ]
    }
   ],
   "source": [
    "def CheckPrime(A):\n",
    "    if(A==0 or A==1):\n",
    "        return False\n",
    "    elif(A==2):\n",
    "        return True\n",
    "    else:\n",
    "        for i in range (2,A):\n",
    "            if(A%i==0):\n",
    "                return False\n",
    "            \n",
    "    return True\n",
    "\n",
    "a=int(input(\"enter the number\"))\n",
    "if(CheckPrime(a)):\n",
    "    print(a,\"is a prime number\")\n",
    "else:\n",
    "      print(a,\"is not a prime number\")\n",
    "\n"
   ]
  },
  {
   "cell_type": "markdown",
   "id": "43e20f1b",
   "metadata": {},
   "source": [
    "# Task6\n",
    "Write a Python function to print the even numbers from a given list.\n",
    "\n",
    "lst = [1, 2, 3, 4, 5, 6, 7, 8, 9]"
   ]
  },
  {
   "cell_type": "code",
   "execution_count": 34,
   "id": "a4c12b6c",
   "metadata": {},
   "outputs": [
    {
     "name": "stdout",
     "output_type": "stream",
     "text": [
      "2 4 6 8 "
     ]
    }
   ],
   "source": [
    "def GetEven(list):\n",
    "    for i in list:\n",
    "        if (i%2==0):\n",
    "            print(i,end=\" \")\n",
    "\n",
    "GetEven([1, 2, 3, 4, 5, 6, 7, 8, 9])"
   ]
  },
  {
   "cell_type": "markdown",
   "id": "f3f345dd",
   "metadata": {},
   "source": [
    "# Task7\n",
    "Write a function that will take a given string and reverse the order of words.\n",
    "Ex:\n",
    "“Hello world” →”world Hello”"
   ]
  },
  {
   "cell_type": "code",
   "execution_count": 13,
   "id": "f197a7fa",
   "metadata": {},
   "outputs": [
    {
     "data": {
      "text/plain": [
       "'world hello'"
      ]
     },
     "execution_count": 13,
     "metadata": {},
     "output_type": "execute_result"
    }
   ],
   "source": [
    "def reverse(A):\n",
    "    list = A.split()\n",
    "    rev=list[::-1]\n",
    "    return \" \".join(rev)\n",
    "\n",
    "A=\"hello world\"\n",
    "b=reverse(A)\n",
    "b"
   ]
  },
  {
   "cell_type": "markdown",
   "id": "823b3fe1",
   "metadata": {},
   "source": [
    "# Task8\n",
    "Given an integer x, return true if x is a palindrome, and false otherwise.\n",
    "   \n",
    "       Example 1:\n",
    "\n",
    "       Input: x = 121\n",
    "\n",
    "       Output: true\n",
    "\n",
    "       Explanation: 121 reads as 121 from left to right and from right to left.\n",
    "\n",
    "       Example 2:\n",
    "\n",
    "       Input: x = -121\n",
    "\n",
    "       Output: false\n",
    "    Explanation: From left to right, it reads -121. From right to left, it becomes 121-. Therefore, it is not a palindrome.\n",
    "\n",
    "        Example 3:\n",
    "\n",
    "        Input: x = 10\n",
    "\n",
    "        Output: false\n",
    "\n",
    "        Explanation: Reads 01 from right to left. Therefore, it is not a palindrome"
   ]
  },
  {
   "cell_type": "code",
   "execution_count": 21,
   "id": "8ac91aa2",
   "metadata": {},
   "outputs": [
    {
     "name": "stdout",
     "output_type": "stream",
     "text": [
      "not a palindrome\n"
     ]
    }
   ],
   "source": [
    "def CheckPal(A):\n",
    "    if(A<9):\n",
    "        if(A<0):\n",
    "            return False\n",
    "        else:\n",
    "            return True\n",
    "    digits=[]\n",
    "    while(A>0):\n",
    "         digits.append(A%10)\n",
    "         A = A//10\n",
    "\n",
    "    j=len(digits)-1\n",
    "    for i in range(len(digits)//2):\n",
    "          if(digits[i]!=digits[j]):\n",
    "              return False\n",
    "\n",
    "    return True\n",
    "\n",
    "if(CheckPal(1214)):\n",
    "    print('a palindrome')\n",
    "else:\n",
    "    print('not a palindrome')\n",
    "         \n",
    "    \n",
    "    \n",
    "\n",
    "    "
   ]
  },
  {
   "cell_type": "markdown",
   "id": "84044d94",
   "metadata": {},
   "source": [
    "# Task8\n",
    "Write a Python function that checks whether a passed string is a palindrome or not.\n"
   ]
  },
  {
   "cell_type": "code",
   "execution_count": 15,
   "id": "904ae587",
   "metadata": {},
   "outputs": [
    {
     "name": "stdout",
     "output_type": "stream",
     "text": [
      "not a palindrome\n"
     ]
    }
   ],
   "source": [
    "def strPalindrome(word):\n",
    "    rev=word[::-1]\n",
    "    if(rev==word):\n",
    "        return True\n",
    "    else:\n",
    "        return False\n",
    "\n",
    "A='word'\n",
    "if(strPalindrome(A)):\n",
    "    print('a palindrome')\n",
    "\n",
    "else:\n",
    "    print('not a palindrome')"
   ]
  },
  {
   "cell_type": "markdown",
   "id": "4444e26b",
   "metadata": {},
   "source": [
    "# Task9\n",
    "Write a Python function to create and print a list where the values are the squares of numbers \n",
    "between 1 and 30 (both included)."
   ]
  },
  {
   "cell_type": "code",
   "execution_count": 26,
   "id": "4616ef24",
   "metadata": {},
   "outputs": [],
   "source": [
    "def CreateSquares():\n",
    "    list=[]\n",
    "    for i in range(1,31):\n",
    "        list.append(i*2)\n",
    "        \n",
    "list\n",
    "\n",
    "\n",
    "CreateSquares()\n",
    "\n",
    "\n",
    "        "
   ]
  },
  {
   "cell_type": "markdown",
   "id": "1358514d",
   "metadata": {},
   "source": [
    "# Task10\n",
    "Write a Python function to generate all permutations of a list."
   ]
  },
  {
   "cell_type": "code",
   "execution_count": 24,
   "id": "8fbf76b3",
   "metadata": {},
   "outputs": [
    {
     "data": {
      "text/plain": [
       "[(1, 2, 3), (1, 3, 2), (2, 1, 3), (2, 3, 1), (3, 1, 2), (3, 2, 1)]"
      ]
     },
     "execution_count": 24,
     "metadata": {},
     "output_type": "execute_result"
    }
   ],
   "source": [
    "import itertools\n",
    "def perm(lst):\n",
    "    return list(itertools.permutations(lst))\n",
    "\n",
    "lst= perm([1,2,3])\n",
    "lst\n"
   ]
  },
  {
   "cell_type": "markdown",
   "id": "e7555048",
   "metadata": {},
   "source": [
    "# Task11\n",
    "Write a Python program to access a function inside a function"
   ]
  },
  {
   "cell_type": "code",
   "execution_count": 27,
   "id": "df891ff9",
   "metadata": {},
   "outputs": [
    {
     "name": "stdout",
     "output_type": "stream",
     "text": [
      "9\n"
     ]
    }
   ],
   "source": [
    "def test(a):\n",
    "    def add(b):\n",
    "        nonlocal a\n",
    "        a+=1\n",
    "        return a+b\n",
    "    return add\n",
    "\n",
    "fun = test(4)\n",
    "print(fun(4))"
   ]
  },
  {
   "cell_type": "markdown",
   "id": "f6c1495a",
   "metadata": {},
   "source": [
    "# Task12\n",
    "After you have finished the third session, can you explain briefly what information was learned and also what information you learned through the search?"
   ]
  },
  {
   "cell_type": "code",
   "execution_count": null,
   "id": "4aa1f2b3",
   "metadata": {},
   "outputs": [],
   "source": []
  }
 ],
 "metadata": {
  "kernelspec": {
   "display_name": "Python 3 (ipykernel)",
   "language": "python",
   "name": "python3"
  },
  "language_info": {
   "codemirror_mode": {
    "name": "ipython",
    "version": 3
   },
   "file_extension": ".py",
   "mimetype": "text/x-python",
   "name": "python",
   "nbconvert_exporter": "python",
   "pygments_lexer": "ipython3",
   "version": "3.11.7"
  }
 },
 "nbformat": 4,
 "nbformat_minor": 5
}
